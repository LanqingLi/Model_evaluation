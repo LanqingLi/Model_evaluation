{
 "cells": [
  {
   "cell_type": "code",
   "execution_count": 3,
   "metadata": {
    "ExecuteTime": {
     "end_time": "2018-10-17T03:34:05.484114Z",
     "start_time": "2018-10-17T03:34:05.154939Z"
    }
   },
   "outputs": [],
   "source": [
    "import os\n",
    "path = '/mnt/data2/model_evaluation/examples/heart/OnlineIter/HeartSemanticSegEvaluation_contour'\n",
    "for img_id in os.listdir(path):\n",
    "    img_id_copy = img_id\n",
    "    img_id_list = img_id.split('.')\n",
    "    if img_id_list[-2] == '5':\n",
    "        new_img_id = img_id_list[0][:-8] + '.jpg'\n",
    "        os.rename(os.path.join(path, img_id_copy), os.path.join(path, new_img_id))"
   ]
  },
  {
   "cell_type": "code",
   "execution_count": null,
   "metadata": {},
   "outputs": [],
   "source": []
  }
 ],
 "metadata": {
  "kernelspec": {
   "display_name": "Python 2",
   "language": "python",
   "name": "python2"
  },
  "language_info": {
   "codemirror_mode": {
    "name": "ipython",
    "version": 2
   },
   "file_extension": ".py",
   "mimetype": "text/x-python",
   "name": "python",
   "nbconvert_exporter": "python",
   "pygments_lexer": "ipython2",
   "version": "2.7.12"
  }
 },
 "nbformat": 4,
 "nbformat_minor": 2
}
